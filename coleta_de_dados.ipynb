{
 "cells": [
  {
   "cell_type": "code",
   "execution_count": 3,
   "metadata": {},
   "outputs": [],
   "source": [
    "import pandas as pd\n",
    "import numpy as np\n",
    "import re\n",
    "import time\n",
    "\n",
    "import requests as rq\n",
    "import bs4 as bs4 #beatifulsoup4\n",
    "import json"
   ]
  },
  {
   "cell_type": "markdown",
   "metadata": {},
   "source": [
    "# Colocando o assunto que deseja recomendar\n",
    "Decidimos as palavras chaves / assuntos que será pesquisado.\n",
    "<br> Descobrimos por pesquisa rápida, algumas 'tags' do URL, que nos permite pesquisar novos envios e páginas do resultado da pesquisa (como \"sp=CAI%253D&\" e \"p=1\")"
   ]
  },
  {
   "cell_type": "code",
   "execution_count": 4,
   "metadata": {},
   "outputs": [],
   "source": [
    "queries = [\"machine+learning\", \"data_science\", \"kanggle\"]\n",
    "url = \"https://www.youtube.com/results?search_query={query}&sp=CAI%253D&p={page}\""
   ]
  },
  {
   "cell_type": "markdown",
   "metadata": {},
   "source": [
    "# Coleta dos dados\n",
    "Comentarei linha a linha explicando suas funções"
   ]
  },
  {
   "cell_type": "code",
   "execution_count": 6,
   "metadata": {},
   "outputs": [
    {
     "name": "stdout",
     "output_type": "stream",
     "text": [
      "https://www.youtube.com/results?search_query=machine+learning&sp=CAI%253D&p=1\n",
      "https://www.youtube.com/results?search_query=machine+learning&sp=CAI%253D&p=2\n",
      "https://www.youtube.com/results?search_query=machine+learning&sp=CAI%253D&p=3\n",
      "https://www.youtube.com/results?search_query=machine+learning&sp=CAI%253D&p=4\n",
      "https://www.youtube.com/results?search_query=machine+learning&sp=CAI%253D&p=5\n",
      "https://www.youtube.com/results?search_query=data_science&sp=CAI%253D&p=1\n",
      "https://www.youtube.com/results?search_query=data_science&sp=CAI%253D&p=2\n",
      "https://www.youtube.com/results?search_query=data_science&sp=CAI%253D&p=3\n",
      "https://www.youtube.com/results?search_query=data_science&sp=CAI%253D&p=4\n",
      "https://www.youtube.com/results?search_query=data_science&sp=CAI%253D&p=5\n",
      "https://www.youtube.com/results?search_query=kanggle&sp=CAI%253D&p=1\n",
      "https://www.youtube.com/results?search_query=kanggle&sp=CAI%253D&p=2\n",
      "https://www.youtube.com/results?search_query=kanggle&sp=CAI%253D&p=3\n",
      "https://www.youtube.com/results?search_query=kanggle&sp=CAI%253D&p=4\n",
      "https://www.youtube.com/results?search_query=kanggle&sp=CAI%253D&p=5\n"
     ]
    }
   ],
   "source": [
    "# repetição para todos as palavras chaves pesquisados\n",
    "for query in queries:\n",
    "    # número de páginas da pesquisa por palavra chave\n",
    "    for page in range(1, 6):\n",
    "        # monta o URL das páginas e printa o mesmo, conforme saída\n",
    "        urll = url.format(query = query, page = page)\n",
    "        print(urll)\n",
    "        # busca o código fonte das páginas (links) montados anteriormente\n",
    "        response = rq.get(urll)\n",
    "        # cria arquivos (.html) dessas páginas em uma pasta dentro do projeto com nome (dados_brutos)\n",
    "        with open(\"./dados_brutos/{}_{}.html\".format(query, page), \"w+\", encoding=\"utf-8\") as output:\n",
    "            output.write(response.text)\n",
    "        # repetição ocorre a cada dois segundos, para caso o youtube não bloqueie a resposta    \n",
    "        time.sleep(2)  "
   ]
  },
  {
   "cell_type": "markdown",
   "metadata": {},
   "source": [
    "# Processamento dados brutos\n",
    "Comentarei linha a linha explicando suas funções"
   ]
  },
  {
   "cell_type": "code",
   "execution_count": 7,
   "metadata": {},
   "outputs": [],
   "source": [
    "# repetição para todos as palavras chaves pesquisados\n",
    "for query in queries:\n",
    "    # número de páginas da pesquisa por palavra chave\n",
    "    for page in range(1, 6):\n",
    "        with open(\"./dados_brutos/{}_{}.html\".format(query, page), \"r+\", encoding=\"utf-8\") as inp:\n",
    "            # lendo e atribuindo arquivos .html salvos anteriormente\n",
    "            page_html = inp.read()\n",
    "            # utilizo a função para receber o código fonte da página\n",
    "            parsed = bs4.BeautifulSoup(page_html)\n",
    "            # por inspeção da página manualmente, descubro que os links e titulos do vídeo estão SEMPRE dentro de uma tag <a>.\n",
    "            # porém existem outras coisas armazenadas (sem ser o nosso objetivo), utilizando essa mesma tag html.\n",
    "            tags = parsed.findAll(\"a\")\n",
    "            # na inspeção realizada anteriormente, descobrimos que todas as tag \"<a>\" que desejamos obter, tem uma tag dentro\n",
    "            # dela cujo o nome é \"aria-describedby\", por isso esse looping serve para procurar essas tags.\n",
    "            for e in tags:\n",
    "                # verifica se é a tag pesquisada\n",
    "                if e.has_attr(\"aria-describedby\"):\n",
    "                    # recebe o link e o título, que é informações desejadas.\n",
    "                    link = e['href']\n",
    "                    title = e['title']\n",
    "                    # cria um arquivo .json, cujo cada linha significa 1 vídeo com as seguintes informações:\n",
    "                    # Link, título e assunto pesquisado\n",
    "                    with open(\"parsed_videos.json\", \"a+\", encoding=\"utf-8\") as output:\n",
    "                        data = {\"link\": link, \"title\": title, \"query\": query}\n",
    "                        output.write(\"{}\\n\".format(json.dumps(data)))\n",
    "                    \n",
    "        "
   ]
  },
  {
   "cell_type": "markdown",
   "metadata": {},
   "source": [
    "# Verificação do resultado\n",
    "Coloca os vídeos salvos no arquivo Json em um DataFrame"
   ]
  },
  {
   "cell_type": "code",
   "execution_count": 8,
   "metadata": {},
   "outputs": [],
   "source": [
    "df = pd.read_json(\"parsed_videos.json\", lines=True)"
   ]
  },
  {
   "cell_type": "code",
   "execution_count": 9,
   "metadata": {},
   "outputs": [
    {
     "data": {
      "text/html": [
       "<div>\n",
       "<style scoped>\n",
       "    .dataframe tbody tr th:only-of-type {\n",
       "        vertical-align: middle;\n",
       "    }\n",
       "\n",
       "    .dataframe tbody tr th {\n",
       "        vertical-align: top;\n",
       "    }\n",
       "\n",
       "    .dataframe thead th {\n",
       "        text-align: right;\n",
       "    }\n",
       "</style>\n",
       "<table border=\"1\" class=\"dataframe\">\n",
       "  <thead>\n",
       "    <tr style=\"text-align: right;\">\n",
       "      <th></th>\n",
       "      <th>link</th>\n",
       "      <th>title</th>\n",
       "      <th>query</th>\n",
       "    </tr>\n",
       "  </thead>\n",
       "  <tbody>\n",
       "    <tr>\n",
       "      <th>404</th>\n",
       "      <td>/watch?v=OoB_LQpgDCk</td>\n",
       "      <td>\"Inversion\": Walter Reade | Data Science at Ka...</td>\n",
       "      <td>kanggle</td>\n",
       "    </tr>\n",
       "    <tr>\n",
       "      <th>188</th>\n",
       "      <td>/watch?v=OoB_LQpgDCk</td>\n",
       "      <td>\"Inversion\": Walter Reade | Data Science at Ka...</td>\n",
       "      <td>kanggle</td>\n",
       "    </tr>\n",
       "    <tr>\n",
       "      <th>195</th>\n",
       "      <td>/watch?v=uVHjY7owVl0</td>\n",
       "      <td>#Kaggle #COVID19 #Data-Science-Diva Walkthroug...</td>\n",
       "      <td>kanggle</td>\n",
       "    </tr>\n",
       "    <tr>\n",
       "      <th>411</th>\n",
       "      <td>/watch?v=uVHjY7owVl0</td>\n",
       "      <td>#Kaggle #COVID19 #Data-Science-Diva Walkthroug...</td>\n",
       "      <td>kanggle</td>\n",
       "    </tr>\n",
       "    <tr>\n",
       "      <th>376</th>\n",
       "      <td>/watch?v=7xHjlpjWm8Q</td>\n",
       "      <td>#task-vt - Apr 12, 2020 - sync on kaggle submi...</td>\n",
       "      <td>kanggle</td>\n",
       "    </tr>\n",
       "    <tr>\n",
       "      <th>...</th>\n",
       "      <td>...</td>\n",
       "      <td>...</td>\n",
       "      <td>...</td>\n",
       "    </tr>\n",
       "    <tr>\n",
       "      <th>125</th>\n",
       "      <td>/watch?v=rYoRhIuke-U</td>\n",
       "      <td>kaggle PANDA competition video 4 CNN model - I...</td>\n",
       "      <td>kanggle</td>\n",
       "    </tr>\n",
       "    <tr>\n",
       "      <th>294</th>\n",
       "      <td>/watch?v=iTc9URy_wzg</td>\n",
       "      <td>theTechTalk #9: Machine Learning: Beyond Myths...</td>\n",
       "      <td>machine+learning</td>\n",
       "    </tr>\n",
       "    <tr>\n",
       "      <th>69</th>\n",
       "      <td>/watch?v=iTc9URy_wzg</td>\n",
       "      <td>theTechTalk #9: Machine Learning: Beyond Myths...</td>\n",
       "      <td>machine+learning</td>\n",
       "    </tr>\n",
       "    <tr>\n",
       "      <th>260</th>\n",
       "      <td>/watch?v=BRZZt_0v5JM</td>\n",
       "      <td>▷ Machine Learning no MS Excel - KNN e K-Means</td>\n",
       "      <td>machine+learning</td>\n",
       "    </tr>\n",
       "    <tr>\n",
       "      <th>35</th>\n",
       "      <td>/watch?v=BRZZt_0v5JM</td>\n",
       "      <td>▷ Machine Learning no MS Excel - KNN e K-Means</td>\n",
       "      <td>machine+learning</td>\n",
       "    </tr>\n",
       "  </tbody>\n",
       "</table>\n",
       "<p>438 rows × 3 columns</p>\n",
       "</div>"
      ],
      "text/plain": [
       "                     link                                              title  \\\n",
       "404  /watch?v=OoB_LQpgDCk  \"Inversion\": Walter Reade | Data Science at Ka...   \n",
       "188  /watch?v=OoB_LQpgDCk  \"Inversion\": Walter Reade | Data Science at Ka...   \n",
       "195  /watch?v=uVHjY7owVl0  #Kaggle #COVID19 #Data-Science-Diva Walkthroug...   \n",
       "411  /watch?v=uVHjY7owVl0  #Kaggle #COVID19 #Data-Science-Diva Walkthroug...   \n",
       "376  /watch?v=7xHjlpjWm8Q  #task-vt - Apr 12, 2020 - sync on kaggle submi...   \n",
       "..                    ...                                                ...   \n",
       "125  /watch?v=rYoRhIuke-U  kaggle PANDA competition video 4 CNN model - I...   \n",
       "294  /watch?v=iTc9URy_wzg  theTechTalk #9: Machine Learning: Beyond Myths...   \n",
       "69   /watch?v=iTc9URy_wzg  theTechTalk #9: Machine Learning: Beyond Myths...   \n",
       "260  /watch?v=BRZZt_0v5JM     ▷ Machine Learning no MS Excel - KNN e K-Means   \n",
       "35   /watch?v=BRZZt_0v5JM     ▷ Machine Learning no MS Excel - KNN e K-Means   \n",
       "\n",
       "                query  \n",
       "404           kanggle  \n",
       "188           kanggle  \n",
       "195           kanggle  \n",
       "411           kanggle  \n",
       "376           kanggle  \n",
       "..                ...  \n",
       "125           kanggle  \n",
       "294  machine+learning  \n",
       "69   machine+learning  \n",
       "260  machine+learning  \n",
       "35   machine+learning  \n",
       "\n",
       "[438 rows x 3 columns]"
      ]
     },
     "execution_count": 9,
     "metadata": {},
     "output_type": "execute_result"
    }
   ],
   "source": [
    "df.sort_values(\"title\")"
   ]
  },
  {
   "cell_type": "code",
   "execution_count": null,
   "metadata": {},
   "outputs": [],
   "source": []
  }
 ],
 "metadata": {
  "kernelspec": {
   "display_name": "Python 3",
   "language": "python",
   "name": "python3"
  },
  "language_info": {
   "codemirror_mode": {
    "name": "ipython",
    "version": 3
   },
   "file_extension": ".py",
   "mimetype": "text/x-python",
   "name": "python",
   "nbconvert_exporter": "python",
   "pygments_lexer": "ipython3",
   "version": "3.8.3"
  }
 },
 "nbformat": 4,
 "nbformat_minor": 4
}
