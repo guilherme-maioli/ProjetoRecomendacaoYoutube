{
 "cells": [
  {
   "cell_type": "code",
   "execution_count": 1,
   "metadata": {},
   "outputs": [
    {
     "name": "stdout",
     "output_type": "stream",
     "text": [
      "Populating the interactive namespace from numpy and matplotlib\n"
     ]
    }
   ],
   "source": [
    "import pandas as pd\n",
    "import numpy as np\n",
    "import re\n",
    "import time\n",
    "\n",
    "import bs4 as bs4\n",
    "import json \n",
    "\n",
    "import glob\n",
    "import tqdm\n",
    "\n",
    "pd.set_option(\"max.columns\", 131)\n",
    "\n",
    "%matplotlib inline\n",
    "%pylab inline"
   ]
  },
  {
   "cell_type": "code",
   "execution_count": 2,
   "metadata": {},
   "outputs": [
    {
     "data": {
      "text/plain": [
       "(498, 16)"
      ]
     },
     "execution_count": 2,
     "metadata": {},
     "output_type": "execute_result"
    }
   ],
   "source": [
    "df = pd.read_csv(\"raw_data_with_labels.csv\", index_col=0)\n",
    "df = df[df[\"y\"].notnull()]\n",
    "df.shape"
   ]
  },
  {
   "cell_type": "code",
   "execution_count": 3,
   "metadata": {},
   "outputs": [],
   "source": [
    "from sklearn.linear_model import LogisticRegression\n",
    "from sklearn.ensemble import RandomForestClassifier"
   ]
  },
  {
   "cell_type": "code",
   "execution_count": 4,
   "metadata": {},
   "outputs": [],
   "source": [
    "df_limpo = pd.DataFrame(index=df.index)\n",
    "df_limpo[\"title\"] = df[\"watch-title\"]"
   ]
  },
  {
   "cell_type": "markdown",
   "metadata": {},
   "source": [
    "## 1. Limpeza de data"
   ]
  },
  {
   "cell_type": "code",
   "execution_count": 5,
   "metadata": {},
   "outputs": [],
   "source": [
    "# criando um data frame, dividindo em colunas DIA-MÊS-ANO, utilizando expressão regular\n",
    "clean_date = df[\"watch-time-text\"].str.extract(r\"(\\d+) de ([a-z]+)\\. de (\\d+)\")\n",
    "# adicionando 0 a esquerda, em dias abaixo de 10\n",
    "clean_date[0] = clean_date[0].map(lambda x: \"0\"+x[0] if len(x) == 1 else x)\n",
    "\n",
    "mapa_meses = {\"jan\": \"Jan\",\n",
    "              \"fev\": \"Feb\", \n",
    "              \"mar\": \"Mar\",\n",
    "              \"abr\": \"Apr\",\n",
    "              \"mai\": \"May\",\n",
    "              \"jun\": \"Jun\",\n",
    "              \"jul\": \"Jul\",\n",
    "              \"ago\": \"Aug\",\n",
    "              \"set\": \"Sep\",\n",
    "              \"out\": \"Oct\",\n",
    "              \"nov\": \"Nov\",\n",
    "              \"dez\": \"Dec\"}\n",
    "# Substituindo o mês para o formato inglês\n",
    "clean_date[1] = clean_date[1].map(mapa_meses)\n",
    "# Transformando tudo em uma linha (e não váris colunas com estava)\n",
    "clean_date = clean_date.apply(lambda x: \" \".join(x), axis = 1)\n",
    "# jogando para o DataFrame criado anteriormente, em formato DATETIME\n",
    "df_limpo[\"date\"] = pd.to_datetime(clean_date, format= \"%d %b %Y\") "
   ]
  },
  {
   "cell_type": "markdown",
   "metadata": {},
   "source": [
    "## 2. Limpeza de views"
   ]
  },
  {
   "cell_type": "code",
   "execution_count": 6,
   "metadata": {},
   "outputs": [],
   "source": [
    "# extraindo apenas os valores inteiros, retirando o \".\" do milhar\n",
    "# atribuindo 0 para vídeos com \"Nenhuma vizualização\"\n",
    "views = df[\"watch-view-count\"].str.extract(r\"(\\d+\\.?\\d+)\", expand=False).str.replace(\".\", \"\").fillna(0).astype(int)\n",
    "df_limpo[\"views\"] = views"
   ]
  },
  {
   "cell_type": "markdown",
   "metadata": {},
   "source": [
    "## 3. Features"
   ]
  },
  {
   "cell_type": "code",
   "execution_count": 7,
   "metadata": {},
   "outputs": [],
   "source": [
    "# criando um novo DataFrame com indice igual ao criando anteriormente\n",
    "features = pd.DataFrame(index=df_limpo.index)\n",
    "# atribuindo minhas labels a ele (se o vídeo é bom ou ruim)\n",
    "y = df[\"y\"].copy()\n",
    "# Atribuição da Data atual (da coleta de dados), menos data de publicação =  Quantos dias o vídeo está no ar\n",
    "# np.timedelta64 -> para fazer a diferença em dias\n",
    "features[\"tempo_desde_pub\"] = (pd.to_datetime(\"2019-12-3\") - df_limpo[\"date\"]) / np.timedelta64(1, \"D\")\n",
    "# atribuição da quantidade de views\n",
    "features[\"views\"] = df_limpo[\"views\"]\n",
    "# conta para obter a média de views por dia\n",
    "features[\"views_por_dia\"] = features[\"views\"] / features[\"tempo_desde_pub\"]\n",
    "# após análise, vimos que não é preciso essa coluna\n",
    "features = features.drop([\"tempo_desde_pub\"], axis = 1)"
   ]
  },
  {
   "cell_type": "code",
   "execution_count": 8,
   "metadata": {},
   "outputs": [
    {
     "data": {
      "text/plain": [
       "((228, 2), (270, 2), (228,), (270,))"
      ]
     },
     "execution_count": 8,
     "metadata": {},
     "output_type": "execute_result"
    }
   ],
   "source": [
    "mask_train = df_limpo[\"date\"] < \"2019-04-01\"\n",
    "mask_val = df_limpo[\"date\"] >= \"2019-04-01\"\n",
    "# Primeiro modelo apenas com duas features (views e views por dia) \n",
    "# para analisar o que elas indicam, seu efeito e suas previsões\n",
    "# Divisão não exata, com mais ou menos 50% pra treino e 50% para teste\n",
    "Xtrain, Xval = features[mask_train], features[mask_val]\n",
    "ytrain, yval = y[mask_train], y[mask_val]\n",
    "Xtrain.shape, Xval.shape, ytrain.shape, yval.shape"
   ]
  },
  {
   "cell_type": "markdown",
   "metadata": {},
   "source": [
    "Nessa parte, iremos obter os títulos dos vídeos já divididos (treino e validação) e temos que criar uma matriz de palavras com quantidade que elas se repetem, sendo cada coluna uma palavra e linhas os valores das quantidades de vezes que cada palavra aparece.\n",
    "<br> Para realizar isso utilizamos o TfidVectorizer, que basicamente é uma formulinha que da peso as palavras. Palavras que aparecem bastante em um determinado exemplo, mas não aparece tanto no dataset inteiro <b>(aparece muito em um vídeo, porém pouco em relação a todos)</b>, terão valores maiores. Palavras muito comuns, terão valores menores."
   ]
  },
  {
   "cell_type": "code",
   "execution_count": 9,
   "metadata": {},
   "outputs": [],
   "source": [
    "# bow = bag of words (bolsa de palavras)\n",
    "\n",
    "from sklearn.feature_extraction.text import TfidfVectorizer\n",
    "# atribui títulos dos vídeos de treino\n",
    "title_train = df_limpo[mask_train]['title']\n",
    "# atribui títulos dos vídeos de validação\n",
    "title_val = df_limpo[mask_val]['title']\n",
    "\n",
    "#min_df = número mínimo que uma palavra aparece nos dados para se tornar uma coluna\n",
    "# Vetorizador transforma os valores em uma matriz\n",
    "title_vec = TfidfVectorizer(min_df=2)\n",
    "# fit armazena palavras que o objeto viu, indicando que elas estão no documento\n",
    "title_bow_train = title_vec.fit_transform(title_train)\n",
    "# validação só usa o método transform. Pois se usar o fit iremos ensinar palavras para o vetorizador, que eu não saberia.\n",
    "# ex: eu não sei o título de um vídeo do youtube que vai entrar amanhã.\n",
    "title_bow_val = title_vec.transform(title_val)"
   ]
  },
  {
   "cell_type": "markdown",
   "metadata": {},
   "source": [
    "Notamos que o modelo nos retorna uma matriz esparça, isto é, ele só armazena valores diferente de 0 pois se ele tivesse que armazenar <b> todos os elementos, seriam 44004 elementos</b>, porém ele só armazena 1277."
   ]
  },
  {
   "cell_type": "code",
   "execution_count": 10,
   "metadata": {},
   "outputs": [
    {
     "data": {
      "text/plain": [
       "<228x193 sparse matrix of type '<class 'numpy.float64'>'\n",
       "\twith 1277 stored elements in Compressed Sparse Row format>"
      ]
     },
     "execution_count": 10,
     "metadata": {},
     "output_type": "execute_result"
    }
   ],
   "source": [
    "title_bow_train"
   ]
  },
  {
   "cell_type": "code",
   "execution_count": 11,
   "metadata": {},
   "outputs": [
    {
     "data": {
      "text/plain": [
       "(228, 193)"
      ]
     },
     "execution_count": 11,
     "metadata": {},
     "output_type": "execute_result"
    }
   ],
   "source": [
    "title_bow_train.shape"
   ]
  },
  {
   "cell_type": "code",
   "execution_count": 12,
   "metadata": {},
   "outputs": [
    {
     "data": {
      "text/plain": [
       "44004"
      ]
     },
     "execution_count": 12,
     "metadata": {},
     "output_type": "execute_result"
    }
   ],
   "source": [
    "228*193"
   ]
  },
  {
   "cell_type": "markdown",
   "metadata": {},
   "source": [
    "Juntando variavéis númericas com variavéis de texto"
   ]
  },
  {
   "cell_type": "code",
   "execution_count": 13,
   "metadata": {},
   "outputs": [
    {
     "data": {
      "text/html": [
       "<div>\n",
       "<style scoped>\n",
       "    .dataframe tbody tr th:only-of-type {\n",
       "        vertical-align: middle;\n",
       "    }\n",
       "\n",
       "    .dataframe tbody tr th {\n",
       "        vertical-align: top;\n",
       "    }\n",
       "\n",
       "    .dataframe thead th {\n",
       "        text-align: right;\n",
       "    }\n",
       "</style>\n",
       "<table border=\"1\" class=\"dataframe\">\n",
       "  <thead>\n",
       "    <tr style=\"text-align: right;\">\n",
       "      <th></th>\n",
       "      <th>views</th>\n",
       "      <th>views_por_dia</th>\n",
       "    </tr>\n",
       "  </thead>\n",
       "  <tbody>\n",
       "    <tr>\n",
       "      <th>0</th>\n",
       "      <td>28028</td>\n",
       "      <td>61.464912</td>\n",
       "    </tr>\n",
       "    <tr>\n",
       "      <th>1</th>\n",
       "      <td>1131</td>\n",
       "      <td>2.960733</td>\n",
       "    </tr>\n",
       "    <tr>\n",
       "      <th>4</th>\n",
       "      <td>1228</td>\n",
       "      <td>3.336957</td>\n",
       "    </tr>\n",
       "    <tr>\n",
       "      <th>6</th>\n",
       "      <td>430097</td>\n",
       "      <td>903.565126</td>\n",
       "    </tr>\n",
       "    <tr>\n",
       "      <th>7</th>\n",
       "      <td>88592</td>\n",
       "      <td>308.682927</td>\n",
       "    </tr>\n",
       "  </tbody>\n",
       "</table>\n",
       "</div>"
      ],
      "text/plain": [
       "    views  views_por_dia\n",
       "0   28028      61.464912\n",
       "1    1131       2.960733\n",
       "4    1228       3.336957\n",
       "6  430097     903.565126\n",
       "7   88592     308.682927"
      ]
     },
     "execution_count": 13,
     "metadata": {},
     "output_type": "execute_result"
    }
   ],
   "source": [
    "Xtrain.head()"
   ]
  },
  {
   "cell_type": "markdown",
   "metadata": {},
   "source": [
    "Entendendo hstack, vstack"
   ]
  },
  {
   "cell_type": "raw",
   "metadata": {},
   "source": [
    "hstack = [1 2] [3 4] -> [1 2 3 4] -> 1x4\n",
    "\n",
    "vstack = [1 2] [3 4] -> [1 2] \n",
    "                        [3 4] -> 2x2  "
   ]
  },
  {
   "cell_type": "code",
   "execution_count": 14,
   "metadata": {},
   "outputs": [],
   "source": [
    "# acrescentando mais uma classe aos nossos dados que irá passar pelo modelo.\n",
    "from scipy.sparse import hstack, vstack\n",
    "Xtrain_wtitle = hstack([Xtrain, title_bow_train])\n",
    "Xval_wtitle = hstack([Xval, title_bow_val])"
   ]
  },
  {
   "cell_type": "code",
   "execution_count": 15,
   "metadata": {},
   "outputs": [
    {
     "data": {
      "text/plain": [
       "((228, 195), (270, 195))"
      ]
     },
     "execution_count": 15,
     "metadata": {},
     "output_type": "execute_result"
    }
   ],
   "source": [
    "Xtrain_wtitle.shape, Xval_wtitle.shape"
   ]
  },
  {
   "cell_type": "code",
   "execution_count": 16,
   "metadata": {},
   "outputs": [
    {
     "data": {
      "text/plain": [
       "RandomForestClassifier(bootstrap=True, ccp_alpha=0.0, class_weight='balanced',\n",
       "                       criterion='gini', max_depth=None, max_features='auto',\n",
       "                       max_leaf_nodes=None, max_samples=None,\n",
       "                       min_impurity_decrease=0.0, min_impurity_split=None,\n",
       "                       min_samples_leaf=1, min_samples_split=2,\n",
       "                       min_weight_fraction_leaf=0.0, n_estimators=1000,\n",
       "                       n_jobs=4, oob_score=False, random_state=0, verbose=0,\n",
       "                       warm_start=False)"
      ]
     },
     "execution_count": 16,
     "metadata": {},
     "output_type": "execute_result"
    }
   ],
   "source": [
    "# Criando um modelo de árvore de decisão aleatória\n",
    "# n_estimartors = número de árvores que será criada\n",
    "mdl = RandomForestClassifier(n_estimators=1000, random_state=0, class_weight=\"balanced\", n_jobs=4)\n",
    "mdl.fit(Xtrain_wtitle, ytrain)"
   ]
  },
  {
   "cell_type": "code",
   "execution_count": 17,
   "metadata": {},
   "outputs": [],
   "source": [
    "p = mdl.predict_proba(Xval_wtitle)[:, 1]"
   ]
  },
  {
   "cell_type": "markdown",
   "metadata": {},
   "source": [
    "Utilizando métricas já vistas anteriormente."
   ]
  },
  {
   "cell_type": "code",
   "execution_count": 18,
   "metadata": {},
   "outputs": [],
   "source": [
    "from sklearn.metrics import roc_auc_score, average_precision_score"
   ]
  },
  {
   "cell_type": "code",
   "execution_count": 19,
   "metadata": {},
   "outputs": [
    {
     "data": {
      "text/plain": [
       "0.19055404076207902"
      ]
     },
     "execution_count": 19,
     "metadata": {},
     "output_type": "execute_result"
    }
   ],
   "source": [
    "average_precision_score(yval, p)"
   ]
  },
  {
   "cell_type": "code",
   "execution_count": 20,
   "metadata": {},
   "outputs": [
    {
     "data": {
      "text/plain": [
       "0.5841945288753798"
      ]
     },
     "execution_count": 20,
     "metadata": {},
     "output_type": "execute_result"
    }
   ],
   "source": [
    "roc_auc_score(yval, p)"
   ]
  },
  {
   "cell_type": "markdown",
   "metadata": {},
   "source": [
    "<b>Com mindf = 2, temos:</b>\n",
    "<br>average_precision = 0.19\n",
    "<br>roc = 0.58\n",
    "\n",
    "<br><br><b>Com mindf = 1, temos: </b>\n",
    "<br>average_precision = 0.17\n",
    "<br>roc = 0.60\n",
    "\n",
    "<br><br><b>Com mindf = 3, temos: </b>\n",
    "<br>average_precision = 0.19\n",
    "<br>roc = 0.53"
   ]
  },
  {
   "cell_type": "markdown",
   "metadata": {},
   "source": [
    "Mantemos mindf = 2, pois com mindf = 2 a chance de overfitting é menor."
   ]
  },
  {
   "cell_type": "markdown",
   "metadata": {},
   "source": [
    "# 5. Active Learning"
   ]
  },
  {
   "cell_type": "raw",
   "metadata": {},
   "source": [
    "70 exemplos que o modelo teve tenha dificuldade\n",
    "30 exemplos aleatoriamente"
   ]
  },
  {
   "cell_type": "code",
   "execution_count": 21,
   "metadata": {},
   "outputs": [],
   "source": [
    "df_unlabeled = pd.read_csv(\"raw_data_with_labels.csv\", index_col=0)\n",
    "# selecionando todas as linhas que o y = null\n",
    "# dropna how = all -> tira todas as linhas que todos os campos estejam NaN\n",
    "df_unlabeled = df_unlabeled[df_unlabeled[\"y\"].isnull()].dropna(how=\"all\")"
   ]
  },
  {
   "cell_type": "code",
   "execution_count": 23,
   "metadata": {},
   "outputs": [
    {
     "data": {
      "text/html": [
       "<div>\n",
       "<style scoped>\n",
       "    .dataframe tbody tr th:only-of-type {\n",
       "        vertical-align: middle;\n",
       "    }\n",
       "\n",
       "    .dataframe tbody tr th {\n",
       "        vertical-align: top;\n",
       "    }\n",
       "\n",
       "    .dataframe thead th {\n",
       "        text-align: right;\n",
       "    }\n",
       "</style>\n",
       "<table border=\"1\" class=\"dataframe\">\n",
       "  <thead>\n",
       "    <tr style=\"text-align: right;\">\n",
       "      <th></th>\n",
       "      <th>watch-title</th>\n",
       "      <th>y</th>\n",
       "      <th>watch-view-count</th>\n",
       "      <th>watch-time-text</th>\n",
       "      <th>content_watch-info-tag-list</th>\n",
       "      <th>watch7-headline</th>\n",
       "      <th>watch7-user-header</th>\n",
       "      <th>watch8-sentiment-actions</th>\n",
       "      <th>og:image</th>\n",
       "      <th>og:image:width</th>\n",
       "      <th>og:image:height</th>\n",
       "      <th>og:description</th>\n",
       "      <th>og:video:width</th>\n",
       "      <th>og:video:height</th>\n",
       "      <th>og:video:tag</th>\n",
       "      <th>channel_link_0</th>\n",
       "    </tr>\n",
       "  </thead>\n",
       "  <tbody>\n",
       "    <tr>\n",
       "      <th>501</th>\n",
       "      <td>Kaggle Mercari Price Suggestion Challenge (1 p...</td>\n",
       "      <td>NaN</td>\n",
       "      <td>2.167 visualizações</td>\n",
       "      <td>Publicado em 2 de nov. de 2018</td>\n",
       "      <td>Educação</td>\n",
       "      <td>Kaggle Mercari Price Suggestion Challenge (1 p...</td>\n",
       "      <td>ML Trainings\\n\\n\\n\\n\\n\\n\\n\\n\\n\\n\\n\\n\\n\\nCarreg...</td>\n",
       "      <td>2.167 visualizações\\n\\n\\n\\n\\n\\n\\n\\n61\\n\\nGosto...</td>\n",
       "      <td>https://i.ytimg.com/vi/QFR0IHbzA30/maxresdefau...</td>\n",
       "      <td>1280.0</td>\n",
       "      <td>720.0</td>\n",
       "      <td>Pawel Jankiewicz and Konstantin Lopuhin share ...</td>\n",
       "      <td>1280.0</td>\n",
       "      <td>720.0</td>\n",
       "      <td>price suggestion</td>\n",
       "      <td>/channel/UCeq6ZIlvC9SVsfhfKnSvM9w</td>\n",
       "    </tr>\n",
       "  </tbody>\n",
       "</table>\n",
       "</div>"
      ],
      "text/plain": [
       "                                           watch-title   y  \\\n",
       "501  Kaggle Mercari Price Suggestion Challenge (1 p... NaN   \n",
       "\n",
       "        watch-view-count                 watch-time-text  \\\n",
       "501  2.167 visualizações  Publicado em 2 de nov. de 2018   \n",
       "\n",
       "    content_watch-info-tag-list  \\\n",
       "501                    Educação   \n",
       "\n",
       "                                       watch7-headline  \\\n",
       "501  Kaggle Mercari Price Suggestion Challenge (1 p...   \n",
       "\n",
       "                                    watch7-user-header  \\\n",
       "501  ML Trainings\\n\\n\\n\\n\\n\\n\\n\\n\\n\\n\\n\\n\\n\\nCarreg...   \n",
       "\n",
       "                              watch8-sentiment-actions  \\\n",
       "501  2.167 visualizações\\n\\n\\n\\n\\n\\n\\n\\n61\\n\\nGosto...   \n",
       "\n",
       "                                              og:image  og:image:width  \\\n",
       "501  https://i.ytimg.com/vi/QFR0IHbzA30/maxresdefau...          1280.0   \n",
       "\n",
       "     og:image:height                                     og:description  \\\n",
       "501            720.0  Pawel Jankiewicz and Konstantin Lopuhin share ...   \n",
       "\n",
       "     og:video:width  og:video:height      og:video:tag  \\\n",
       "501          1280.0            720.0  price suggestion   \n",
       "\n",
       "                        channel_link_0  \n",
       "501  /channel/UCeq6ZIlvC9SVsfhfKnSvM9w  "
      ]
     },
     "execution_count": 23,
     "metadata": {},
     "output_type": "execute_result"
    }
   ],
   "source": [
    "df_unlabeled.head(1)"
   ]
  },
  {
   "cell_type": "code",
   "execution_count": 24,
   "metadata": {},
   "outputs": [],
   "source": [
    "df_limpo_u = pd.DataFrame(index=df_unlabeled.index)\n",
    "df_limpo_u[\"title\"] = df_unlabeled[\"watch-title\"]"
   ]
  },
  {
   "cell_type": "code",
   "execution_count": 25,
   "metadata": {},
   "outputs": [],
   "source": [
    "clean_date = df_unlabeled[\"watch-time-text\"].str.extract(r\"(\\d+) de ([a-z]+)\\. de (\\d+)\")\n",
    "clean_date[0] = clean_date[0].map(lambda x: \"0\"+x[0] if len(x) == 1 else x)\n",
    "\n",
    "mapa_meses = {\"jan\": \"Jan\",\n",
    "              \"fev\": \"Feb\", \n",
    "              \"mar\": \"Mar\",\n",
    "              \"abr\": \"Apr\",\n",
    "              \"mai\": \"May\",\n",
    "              \"jun\": \"Jun\",\n",
    "              \"jul\": \"Jul\",\n",
    "              \"ago\": \"Aug\",\n",
    "              \"set\": \"Sep\",\n",
    "              \"out\": \"Oct\",\n",
    "              \"nov\": \"Nov\",\n",
    "              \"dez\": \"Dec\"}\n",
    "clean_date[1] = clean_date[1].map(mapa_meses)\n",
    "clean_date = clean_date.apply(lambda x: \" \".join(x), axis = 1)\n",
    "df_limpo_u[\"date\"] = pd.to_datetime(clean_date, format= \"%d %b %Y\") "
   ]
  },
  {
   "cell_type": "code",
   "execution_count": 26,
   "metadata": {},
   "outputs": [
    {
     "data": {
      "text/html": [
       "<div>\n",
       "<style scoped>\n",
       "    .dataframe tbody tr th:only-of-type {\n",
       "        vertical-align: middle;\n",
       "    }\n",
       "\n",
       "    .dataframe tbody tr th {\n",
       "        vertical-align: top;\n",
       "    }\n",
       "\n",
       "    .dataframe thead th {\n",
       "        text-align: right;\n",
       "    }\n",
       "</style>\n",
       "<table border=\"1\" class=\"dataframe\">\n",
       "  <thead>\n",
       "    <tr style=\"text-align: right;\">\n",
       "      <th></th>\n",
       "      <th>title</th>\n",
       "      <th>date</th>\n",
       "    </tr>\n",
       "  </thead>\n",
       "  <tbody>\n",
       "    <tr>\n",
       "      <th>501</th>\n",
       "      <td>Kaggle Mercari Price Suggestion Challenge (1 p...</td>\n",
       "      <td>2018-11-02</td>\n",
       "    </tr>\n",
       "    <tr>\n",
       "      <th>502</th>\n",
       "      <td>OpenAI Gym and Python for Q-learning - Reinfor...</td>\n",
       "      <td>2018-10-14</td>\n",
       "    </tr>\n",
       "    <tr>\n",
       "      <th>503</th>\n",
       "      <td>Dashboarding with Notebooks, Day 1: What infor...</td>\n",
       "      <td>2018-12-17</td>\n",
       "    </tr>\n",
       "    <tr>\n",
       "      <th>504</th>\n",
       "      <td>How To Get US- American Company H1 Visa To Get...</td>\n",
       "      <td>2019-11-23</td>\n",
       "    </tr>\n",
       "    <tr>\n",
       "      <th>505</th>\n",
       "      <td>Platform Overview - Machine Learning</td>\n",
       "      <td>2019-05-21</td>\n",
       "    </tr>\n",
       "  </tbody>\n",
       "</table>\n",
       "</div>"
      ],
      "text/plain": [
       "                                                 title       date\n",
       "501  Kaggle Mercari Price Suggestion Challenge (1 p... 2018-11-02\n",
       "502  OpenAI Gym and Python for Q-learning - Reinfor... 2018-10-14\n",
       "503  Dashboarding with Notebooks, Day 1: What infor... 2018-12-17\n",
       "504  How To Get US- American Company H1 Visa To Get... 2019-11-23\n",
       "505               Platform Overview - Machine Learning 2019-05-21"
      ]
     },
     "execution_count": 26,
     "metadata": {},
     "output_type": "execute_result"
    }
   ],
   "source": [
    "df_limpo_u.head()"
   ]
  },
  {
   "cell_type": "code",
   "execution_count": 27,
   "metadata": {},
   "outputs": [],
   "source": [
    "views = df_unlabeled[\"watch-view-count\"].str.extract(r\"(\\d+\\.?\\d+)\", expand=False).str.replace(\".\", \"\").fillna(0).astype(int)\n",
    "df_limpo_u[\"views\"] = views"
   ]
  },
  {
   "cell_type": "code",
   "execution_count": 28,
   "metadata": {},
   "outputs": [],
   "source": [
    "features_u = pd.DataFrame(index=df_limpo_u.index)\n",
    "features_u[\"tempo_desde_pub\"] = (pd.to_datetime(\"2019-12-3\") - df_limpo_u[\"date\"]) / np.timedelta64(1, \"D\")\n",
    "features_u[\"views\"] = df_limpo_u[\"views\"]\n",
    "features_u[\"views_por_dia\"] = features_u[\"views\"] / features_u[\"tempo_desde_pub\"]\n",
    "features_u = features_u.drop([\"tempo_desde_pub\"], axis = 1)"
   ]
  },
  {
   "cell_type": "code",
   "execution_count": 29,
   "metadata": {},
   "outputs": [
    {
     "data": {
      "text/html": [
       "<div>\n",
       "<style scoped>\n",
       "    .dataframe tbody tr th:only-of-type {\n",
       "        vertical-align: middle;\n",
       "    }\n",
       "\n",
       "    .dataframe tbody tr th {\n",
       "        vertical-align: top;\n",
       "    }\n",
       "\n",
       "    .dataframe thead th {\n",
       "        text-align: right;\n",
       "    }\n",
       "</style>\n",
       "<table border=\"1\" class=\"dataframe\">\n",
       "  <thead>\n",
       "    <tr style=\"text-align: right;\">\n",
       "      <th></th>\n",
       "      <th>views</th>\n",
       "      <th>views_por_dia</th>\n",
       "    </tr>\n",
       "  </thead>\n",
       "  <tbody>\n",
       "    <tr>\n",
       "      <th>501</th>\n",
       "      <td>2167</td>\n",
       "      <td>5.472222</td>\n",
       "    </tr>\n",
       "    <tr>\n",
       "      <th>502</th>\n",
       "      <td>20378</td>\n",
       "      <td>49.103614</td>\n",
       "    </tr>\n",
       "    <tr>\n",
       "      <th>503</th>\n",
       "      <td>10435</td>\n",
       "      <td>29.729345</td>\n",
       "    </tr>\n",
       "    <tr>\n",
       "      <th>504</th>\n",
       "      <td>0</td>\n",
       "      <td>0.000000</td>\n",
       "    </tr>\n",
       "    <tr>\n",
       "      <th>505</th>\n",
       "      <td>4298</td>\n",
       "      <td>21.928571</td>\n",
       "    </tr>\n",
       "  </tbody>\n",
       "</table>\n",
       "</div>"
      ],
      "text/plain": [
       "     views  views_por_dia\n",
       "501   2167       5.472222\n",
       "502  20378      49.103614\n",
       "503  10435      29.729345\n",
       "504      0       0.000000\n",
       "505   4298      21.928571"
      ]
     },
     "execution_count": 29,
     "metadata": {},
     "output_type": "execute_result"
    }
   ],
   "source": [
    "features_u.head()"
   ]
  },
  {
   "cell_type": "code",
   "execution_count": 30,
   "metadata": {},
   "outputs": [],
   "source": [
    "from sklearn.feature_extraction.text import TfidfVectorizer"
   ]
  },
  {
   "cell_type": "code",
   "execution_count": 33,
   "metadata": {},
   "outputs": [],
   "source": [
    "title_u = df_limpo_u[\"title\"]\n",
    "title_bow_u = title_vec.transform(title_u)"
   ]
  },
  {
   "cell_type": "code",
   "execution_count": 35,
   "metadata": {},
   "outputs": [
    {
     "data": {
      "text/plain": [
       "<674x193 sparse matrix of type '<class 'numpy.float64'>'\n",
       "\twith 3079 stored elements in Compressed Sparse Row format>"
      ]
     },
     "execution_count": 35,
     "metadata": {},
     "output_type": "execute_result"
    }
   ],
   "source": [
    "title_bow_u"
   ]
  },
  {
   "cell_type": "code",
   "execution_count": 36,
   "metadata": {},
   "outputs": [],
   "source": [
    "Xu_wtitle = hstack([features_u, title_bow_u])"
   ]
  },
  {
   "cell_type": "code",
   "execution_count": 37,
   "metadata": {},
   "outputs": [
    {
     "data": {
      "text/plain": [
       "<674x195 sparse matrix of type '<class 'numpy.float64'>'\n",
       "\twith 4349 stored elements in COOrdinate format>"
      ]
     },
     "execution_count": 37,
     "metadata": {},
     "output_type": "execute_result"
    }
   ],
   "source": [
    "Xu_wtitle"
   ]
  },
  {
   "cell_type": "code",
   "execution_count": 39,
   "metadata": {},
   "outputs": [],
   "source": [
    "pu = mdl.predict_proba(Xu_wtitle)[:, 1]"
   ]
  },
  {
   "cell_type": "code",
   "execution_count": 40,
   "metadata": {},
   "outputs": [],
   "source": [
    "# acrescentando uma nova coluna p (\"probabilidade\"), para os exemplos\n",
    "df_unlabeled[\"p\"] = pu"
   ]
  },
  {
   "cell_type": "code",
   "execution_count": 42,
   "metadata": {},
   "outputs": [
    {
     "data": {
      "text/html": [
       "<div>\n",
       "<style scoped>\n",
       "    .dataframe tbody tr th:only-of-type {\n",
       "        vertical-align: middle;\n",
       "    }\n",
       "\n",
       "    .dataframe tbody tr th {\n",
       "        vertical-align: top;\n",
       "    }\n",
       "\n",
       "    .dataframe thead th {\n",
       "        text-align: right;\n",
       "    }\n",
       "</style>\n",
       "<table border=\"1\" class=\"dataframe\">\n",
       "  <thead>\n",
       "    <tr style=\"text-align: right;\">\n",
       "      <th></th>\n",
       "      <th>watch-title</th>\n",
       "      <th>y</th>\n",
       "      <th>watch-view-count</th>\n",
       "      <th>watch-time-text</th>\n",
       "      <th>content_watch-info-tag-list</th>\n",
       "      <th>watch7-headline</th>\n",
       "      <th>watch7-user-header</th>\n",
       "      <th>watch8-sentiment-actions</th>\n",
       "      <th>og:image</th>\n",
       "      <th>og:image:width</th>\n",
       "      <th>og:image:height</th>\n",
       "      <th>og:description</th>\n",
       "      <th>og:video:width</th>\n",
       "      <th>og:video:height</th>\n",
       "      <th>og:video:tag</th>\n",
       "      <th>channel_link_0</th>\n",
       "      <th>p</th>\n",
       "    </tr>\n",
       "  </thead>\n",
       "  <tbody>\n",
       "    <tr>\n",
       "      <th>501</th>\n",
       "      <td>Kaggle Mercari Price Suggestion Challenge (1 p...</td>\n",
       "      <td>NaN</td>\n",
       "      <td>2.167 visualizações</td>\n",
       "      <td>Publicado em 2 de nov. de 2018</td>\n",
       "      <td>Educação</td>\n",
       "      <td>Kaggle Mercari Price Suggestion Challenge (1 p...</td>\n",
       "      <td>ML Trainings\\n\\n\\n\\n\\n\\n\\n\\n\\n\\n\\n\\n\\n\\nCarreg...</td>\n",
       "      <td>2.167 visualizações\\n\\n\\n\\n\\n\\n\\n\\n61\\n\\nGosto...</td>\n",
       "      <td>https://i.ytimg.com/vi/QFR0IHbzA30/maxresdefau...</td>\n",
       "      <td>1280.0</td>\n",
       "      <td>720.0</td>\n",
       "      <td>Pawel Jankiewicz and Konstantin Lopuhin share ...</td>\n",
       "      <td>1280.0</td>\n",
       "      <td>720.0</td>\n",
       "      <td>price suggestion</td>\n",
       "      <td>/channel/UCeq6ZIlvC9SVsfhfKnSvM9w</td>\n",
       "      <td>0.093</td>\n",
       "    </tr>\n",
       "  </tbody>\n",
       "</table>\n",
       "</div>"
      ],
      "text/plain": [
       "                                           watch-title   y  \\\n",
       "501  Kaggle Mercari Price Suggestion Challenge (1 p... NaN   \n",
       "\n",
       "        watch-view-count                 watch-time-text  \\\n",
       "501  2.167 visualizações  Publicado em 2 de nov. de 2018   \n",
       "\n",
       "    content_watch-info-tag-list  \\\n",
       "501                    Educação   \n",
       "\n",
       "                                       watch7-headline  \\\n",
       "501  Kaggle Mercari Price Suggestion Challenge (1 p...   \n",
       "\n",
       "                                    watch7-user-header  \\\n",
       "501  ML Trainings\\n\\n\\n\\n\\n\\n\\n\\n\\n\\n\\n\\n\\n\\nCarreg...   \n",
       "\n",
       "                              watch8-sentiment-actions  \\\n",
       "501  2.167 visualizações\\n\\n\\n\\n\\n\\n\\n\\n61\\n\\nGosto...   \n",
       "\n",
       "                                              og:image  og:image:width  \\\n",
       "501  https://i.ytimg.com/vi/QFR0IHbzA30/maxresdefau...          1280.0   \n",
       "\n",
       "     og:image:height                                     og:description  \\\n",
       "501            720.0  Pawel Jankiewicz and Konstantin Lopuhin share ...   \n",
       "\n",
       "     og:video:width  og:video:height      og:video:tag  \\\n",
       "501          1280.0            720.0  price suggestion   \n",
       "\n",
       "                        channel_link_0      p  \n",
       "501  /channel/UCeq6ZIlvC9SVsfhfKnSvM9w  0.093  "
      ]
     },
     "execution_count": 42,
     "metadata": {},
     "output_type": "execute_result"
    }
   ],
   "source": [
    "df_unlabeled.head(1)"
   ]
  },
  {
   "cell_type": "markdown",
   "metadata": {},
   "source": [
    "Tentativas até encontrar aproximadamente 70 exemplos."
   ]
  },
  {
   "cell_type": "code",
   "execution_count": 46,
   "metadata": {},
   "outputs": [
    {
     "data": {
      "text/plain": [
       "69"
      ]
     },
     "execution_count": 46,
     "metadata": {},
     "output_type": "execute_result"
    }
   ],
   "source": [
    "mask_u = (df_unlabeled[\"p\"] >= 0.26) & (df_unlabeled[\"p\"] <= 1.)\n",
    "mask_u.sum()"
   ]
  },
  {
   "cell_type": "code",
   "execution_count": 47,
   "metadata": {},
   "outputs": [
    {
     "data": {
      "text/plain": [
       "501     False\n",
       "502     False\n",
       "503     False\n",
       "504     False\n",
       "505      True\n",
       "        ...  \n",
       "1179    False\n",
       "1180    False\n",
       "1181    False\n",
       "1182    False\n",
       "1183    False\n",
       "Name: p, Length: 674, dtype: bool"
      ]
     },
     "execution_count": 47,
     "metadata": {},
     "output_type": "execute_result"
    }
   ],
   "source": [
    "mask_u"
   ]
  },
  {
   "cell_type": "code",
   "execution_count": 44,
   "metadata": {
    "scrolled": true
   },
   "outputs": [
    {
     "data": {
      "text/html": [
       "<div>\n",
       "<style scoped>\n",
       "    .dataframe tbody tr th:only-of-type {\n",
       "        vertical-align: middle;\n",
       "    }\n",
       "\n",
       "    .dataframe tbody tr th {\n",
       "        vertical-align: top;\n",
       "    }\n",
       "\n",
       "    .dataframe thead th {\n",
       "        text-align: right;\n",
       "    }\n",
       "</style>\n",
       "<table border=\"1\" class=\"dataframe\">\n",
       "  <thead>\n",
       "    <tr style=\"text-align: right;\">\n",
       "      <th></th>\n",
       "      <th>watch-title</th>\n",
       "      <th>y</th>\n",
       "      <th>watch-view-count</th>\n",
       "      <th>watch-time-text</th>\n",
       "      <th>content_watch-info-tag-list</th>\n",
       "      <th>watch7-headline</th>\n",
       "      <th>watch7-user-header</th>\n",
       "      <th>watch8-sentiment-actions</th>\n",
       "      <th>og:image</th>\n",
       "      <th>og:image:width</th>\n",
       "      <th>og:image:height</th>\n",
       "      <th>og:description</th>\n",
       "      <th>og:video:width</th>\n",
       "      <th>og:video:height</th>\n",
       "      <th>og:video:tag</th>\n",
       "      <th>channel_link_0</th>\n",
       "      <th>p</th>\n",
       "    </tr>\n",
       "  </thead>\n",
       "  <tbody>\n",
       "    <tr>\n",
       "      <th>505</th>\n",
       "      <td>Platform Overview - Machine Learning</td>\n",
       "      <td>NaN</td>\n",
       "      <td>4.298 visualizações</td>\n",
       "      <td>Publicado em 21 de mai. de 2019</td>\n",
       "      <td>Ciência e tecnologia</td>\n",
       "      <td>Platform Overview - Machine Learning</td>\n",
       "      <td>Google Cloud Platform\\n\\n\\n\\n\\n\\n\\n\\n\\n\\n\\n\\n\\...</td>\n",
       "      <td>4.298 visualizações\\n\\n\\n\\n\\n\\n\\n\\n141\\n\\nGost...</td>\n",
       "      <td>https://i.ytimg.com/vi/QR_LQQ-vvko/maxresdefau...</td>\n",
       "      <td>1280.0</td>\n",
       "      <td>720.0</td>\n",
       "      <td>In this short GCP Essentials video, see how GC...</td>\n",
       "      <td>1280.0</td>\n",
       "      <td>720.0</td>\n",
       "      <td>Alexis Moussine Pouchkine</td>\n",
       "      <td>/channel/UCJS9pqu9BzkAMNTmzNMNhvg</td>\n",
       "      <td>0.502</td>\n",
       "    </tr>\n",
       "    <tr>\n",
       "      <th>507</th>\n",
       "      <td>Kaggle Meetup: Ship Detection Challenge</td>\n",
       "      <td>NaN</td>\n",
       "      <td>504 visualizações</td>\n",
       "      <td>Publicado em 30 de nov. de 2018</td>\n",
       "      <td>Ciência e tecnologia</td>\n",
       "      <td>Kaggle Meetup: Ship Detection Challenge</td>\n",
       "      <td>Learn Data Science\\n\\n\\n\\n\\n\\n\\n\\n\\n\\n\\n\\n\\n\\n...</td>\n",
       "      <td>504 visualizações\\n\\n\\n\\n\\n\\n\\n\\n9\\n\\nGostou d...</td>\n",
       "      <td>https://i.ytimg.com/vi/QXEy4rdLsDw/maxresdefau...</td>\n",
       "      <td>1280.0</td>\n",
       "      <td>720.0</td>\n",
       "      <td>Video from the 2018-11-29 meetup. Kaggle page:...</td>\n",
       "      <td>1280.0</td>\n",
       "      <td>720.0</td>\n",
       "      <td>learn data science</td>\n",
       "      <td>/channel/UCJhW_16uxALr0X4olEW2p5A</td>\n",
       "      <td>0.455</td>\n",
       "    </tr>\n",
       "    <tr>\n",
       "      <th>535</th>\n",
       "      <td>Identifying art through machine learning at MoMA</td>\n",
       "      <td>NaN</td>\n",
       "      <td>9.476 visualizações</td>\n",
       "      <td>Publicado em 7 de mar. de 2018</td>\n",
       "      <td>Entretenimento</td>\n",
       "      <td>#MachineLearning #Musuem #Art\\n\\n\\n\\n    Ident...</td>\n",
       "      <td>Google Arts &amp; Culture\\n\\n\\n\\n\\n\\n\\n\\n\\n\\n\\n\\n\\...</td>\n",
       "      <td>9.476 visualizações\\n\\n\\n\\n\\n\\n\\n\\n49\\n\\nGosto...</td>\n",
       "      <td>https://i.ytimg.com/vi/SLBqVOnn9Mo/maxresdefau...</td>\n",
       "      <td>1280.0</td>\n",
       "      <td>720.0</td>\n",
       "      <td>The Art Recognizer, built in collaboration wit...</td>\n",
       "      <td>1280.0</td>\n",
       "      <td>720.0</td>\n",
       "      <td>museum of modern art</td>\n",
       "      <td>/channel/UCGn7dlcAmH44GqycKa_3ssA</td>\n",
       "      <td>0.510</td>\n",
       "    </tr>\n",
       "    <tr>\n",
       "      <th>557</th>\n",
       "      <td>Deep Learning - Computerphile</td>\n",
       "      <td>NaN</td>\n",
       "      <td>131.286 visualizações</td>\n",
       "      <td>Publicado em 6 de jun. de 2018</td>\n",
       "      <td>Educação</td>\n",
       "      <td>Deep Learning - Computerphile</td>\n",
       "      <td>Computerphile\\n\\n\\n\\n\\n\\n\\n\\n\\n\\n\\n\\n\\n\\n\\nCar...</td>\n",
       "      <td>131.286 visualizações\\n\\n\\n\\n\\n\\n\\n\\n3.700\\n\\n...</td>\n",
       "      <td>https://i.ytimg.com/vi/TJlAxW-2nmI/maxresdefau...</td>\n",
       "      <td>1280.0</td>\n",
       "      <td>720.0</td>\n",
       "      <td>Deep Learning with Convolutional Neural Networ...</td>\n",
       "      <td>1280.0</td>\n",
       "      <td>720.0</td>\n",
       "      <td>Neural Network</td>\n",
       "      <td>/channel/UC9-y-6csu5WGm29I7JiwpnA</td>\n",
       "      <td>0.453</td>\n",
       "    </tr>\n",
       "    <tr>\n",
       "      <th>705</th>\n",
       "      <td>Kaggle Meetup: CANSSI NCSC Ferry Delays</td>\n",
       "      <td>NaN</td>\n",
       "      <td>124 visualizações</td>\n",
       "      <td>Publicado em 3 de out. de 2019</td>\n",
       "      <td>Ciência e tecnologia</td>\n",
       "      <td>Kaggle Meetup: CANSSI NCSC Ferry Delays</td>\n",
       "      <td>Learn Data Science\\n\\n\\n\\n\\n\\n\\n\\n\\n\\n\\n\\n\\n\\n...</td>\n",
       "      <td>124 visualizações\\n\\n\\n\\n\\n\\n\\n\\n2\\n\\nGostou d...</td>\n",
       "      <td>https://i.ytimg.com/vi/aOGnEHywIBc/maxresdefau...</td>\n",
       "      <td>1280.0</td>\n",
       "      <td>720.0</td>\n",
       "      <td>Presenter: Matt Tourond Kaggle page: https://w...</td>\n",
       "      <td>1280.0</td>\n",
       "      <td>720.0</td>\n",
       "      <td>machine learning</td>\n",
       "      <td>/channel/UCJhW_16uxALr0X4olEW2p5A</td>\n",
       "      <td>0.464</td>\n",
       "    </tr>\n",
       "    <tr>\n",
       "      <th>718</th>\n",
       "      <td>Kaggle Meetup: Human Protein Atlas</td>\n",
       "      <td>NaN</td>\n",
       "      <td>226 visualizações</td>\n",
       "      <td>Publicado em 8 de fev. de 2019</td>\n",
       "      <td>Ciência e tecnologia</td>\n",
       "      <td>Kaggle Meetup: Human Protein Atlas</td>\n",
       "      <td>Learn Data Science\\n\\n\\n\\n\\n\\n\\n\\n\\n\\n\\n\\n\\n\\n...</td>\n",
       "      <td>226 visualizações\\n\\n\\n\\n\\n\\n\\n\\n5\\n\\nGostou d...</td>\n",
       "      <td>https://i.ytimg.com/vi/bAgjqdQ0VE8/maxresdefau...</td>\n",
       "      <td>1280.0</td>\n",
       "      <td>720.0</td>\n",
       "      <td>Kaggle page: https://www.kaggle.com/c/human-pr...</td>\n",
       "      <td>1280.0</td>\n",
       "      <td>720.0</td>\n",
       "      <td>kaggle</td>\n",
       "      <td>/channel/UCJhW_16uxALr0X4olEW2p5A</td>\n",
       "      <td>0.487</td>\n",
       "    </tr>\n",
       "    <tr>\n",
       "      <th>744</th>\n",
       "      <td>Data Science Specialization at IFMR-GSB</td>\n",
       "      <td>NaN</td>\n",
       "      <td>207 visualizações</td>\n",
       "      <td>Publicado em 27 de dez. de 2018</td>\n",
       "      <td>Educação</td>\n",
       "      <td>Data Science Specialization at IFMR-GSB</td>\n",
       "      <td>IFMR GSB KREA University\\n\\n\\n\\n\\n\\n\\n\\n\\n\\n\\n...</td>\n",
       "      <td>207 visualizações\\n\\n\\n\\n\\n\\n\\n\\n3\\n\\nGostou d...</td>\n",
       "      <td>https://i.ytimg.com/vi/crUfuo9GXIc/maxresdefau...</td>\n",
       "      <td>1280.0</td>\n",
       "      <td>720.0</td>\n",
       "      <td></td>\n",
       "      <td>1280.0</td>\n",
       "      <td>720.0</td>\n",
       "      <td>NaN</td>\n",
       "      <td>/channel/UCAjwb2trX_m_6hobx02MV9g</td>\n",
       "      <td>0.469</td>\n",
       "    </tr>\n",
       "    <tr>\n",
       "      <th>904</th>\n",
       "      <td>Kaggle Meetup: AdTracking Fraud Detection</td>\n",
       "      <td>NaN</td>\n",
       "      <td>372 visualizações</td>\n",
       "      <td>Publicado em 1 de jun. de 2018</td>\n",
       "      <td>Ciência e tecnologia</td>\n",
       "      <td>Kaggle Meetup: AdTracking Fraud Detection</td>\n",
       "      <td>Learn Data Science\\n\\n\\n\\n\\n\\n\\n\\n\\n\\n\\n\\n\\n\\n...</td>\n",
       "      <td>372 visualizações\\n\\n\\n\\n\\n\\n\\n\\n11\\n\\nGostou ...</td>\n",
       "      <td>https://i.ytimg.com/vi/kzkQTPeZPQ4/maxresdefau...</td>\n",
       "      <td>1280.0</td>\n",
       "      <td>720.0</td>\n",
       "      <td>https://www.meetup.com/LearnDataScience/events...</td>\n",
       "      <td>1280.0</td>\n",
       "      <td>720.0</td>\n",
       "      <td>NaN</td>\n",
       "      <td>/channel/UCJhW_16uxALr0X4olEW2p5A</td>\n",
       "      <td>0.521</td>\n",
       "    </tr>\n",
       "    <tr>\n",
       "      <th>923</th>\n",
       "      <td>Shri Debasish Sen at 7th International Data Sc...</td>\n",
       "      <td>NaN</td>\n",
       "      <td>5 visualizações</td>\n",
       "      <td>Publicado em 23 de nov. de 2019</td>\n",
       "      <td>Ciência e tecnologia</td>\n",
       "      <td>Shri Debasish Sen at 7th International Data Sc...</td>\n",
       "      <td>Data Science Foundation\\n\\n\\n\\n\\n\\n\\n\\n\\n\\n\\n\\...</td>\n",
       "      <td>5 visualizações\\n\\n\\n\\n\\nGostou deste vídeo?\\n...</td>\n",
       "      <td>https://i.ytimg.com/vi/m0NTnHGSfkA/maxresdefau...</td>\n",
       "      <td>1280.0</td>\n",
       "      <td>720.0</td>\n",
       "      <td>Shri Debasish Sen at 7th International Data Sc...</td>\n",
       "      <td>1280.0</td>\n",
       "      <td>720.0</td>\n",
       "      <td>Data Science in Govt</td>\n",
       "      <td>/channel/UCgURMi5Be6B6AOrgXuOnctQ</td>\n",
       "      <td>0.468</td>\n",
       "    </tr>\n",
       "    <tr>\n",
       "      <th>1059</th>\n",
       "      <td>Kaggle Meetup: Freesound Audio Tagging 2019</td>\n",
       "      <td>NaN</td>\n",
       "      <td>167 visualizações</td>\n",
       "      <td>Publicado em 10 de ago. de 2019</td>\n",
       "      <td>Ciência e tecnologia</td>\n",
       "      <td>VentureLabs\\n\\n\\n\\n    Kaggle Meetup: Freesoun...</td>\n",
       "      <td>Learn Data Science\\n\\n\\n\\n\\n\\n\\n\\n\\n\\n\\n\\n\\n\\n...</td>\n",
       "      <td>167 visualizações\\n\\n\\n\\n\\n\\n\\n\\n1\\n\\nGostou d...</td>\n",
       "      <td>https://i.ytimg.com/vi/tEe-w86R23E/maxresdefau...</td>\n",
       "      <td>1280.0</td>\n",
       "      <td>720.0</td>\n",
       "      <td>Presenter: Keagan O'Donohue Kaggle page: https...</td>\n",
       "      <td>1280.0</td>\n",
       "      <td>720.0</td>\n",
       "      <td>kaggle</td>\n",
       "      <td>/channel/UCJhW_16uxALr0X4olEW2p5A</td>\n",
       "      <td>0.493</td>\n",
       "    </tr>\n",
       "    <tr>\n",
       "      <th>1084</th>\n",
       "      <td>Kaggle Meetup: Visual Relationship Challenge</td>\n",
       "      <td>NaN</td>\n",
       "      <td>104 visualizações</td>\n",
       "      <td>Publicado em 6 de dez. de 2018</td>\n",
       "      <td>Ciência e tecnologia</td>\n",
       "      <td>Kaggle Meetup: Visual Relationship Challenge</td>\n",
       "      <td>Learn Data Science\\n\\n\\n\\n\\n\\n\\n\\n\\n\\n\\n\\n\\n\\n...</td>\n",
       "      <td>104 visualizações\\n\\n\\n\\n\\n\\n\\n\\n3\\n\\nGostou d...</td>\n",
       "      <td>https://i.ytimg.com/vi/uBVY-g3ZXUk/maxresdefau...</td>\n",
       "      <td>1280.0</td>\n",
       "      <td>720.0</td>\n",
       "      <td>Kaggle page: https://www.kaggle.com/c/google-a...</td>\n",
       "      <td>1280.0</td>\n",
       "      <td>720.0</td>\n",
       "      <td>artificial intelligence</td>\n",
       "      <td>/channel/UCJhW_16uxALr0X4olEW2p5A</td>\n",
       "      <td>0.456</td>\n",
       "    </tr>\n",
       "    <tr>\n",
       "      <th>1114</th>\n",
       "      <td>Artificial Intelligence &amp; Machine Learning  - ...</td>\n",
       "      <td>NaN</td>\n",
       "      <td>28 visualizações</td>\n",
       "      <td>Publicado em 25 de nov. de 2019</td>\n",
       "      <td>Educação</td>\n",
       "      <td>Artificial Intelligence &amp; Machine Learning  - ...</td>\n",
       "      <td>jayanti prasad\\n\\n\\n\\n\\n\\n\\n\\n\\n\\n\\n\\n\\n\\nCarr...</td>\n",
       "      <td>28 visualizações\\n\\n\\n\\n\\n\\n\\n\\n1\\n\\nGostou de...</td>\n",
       "      <td>https://i.ytimg.com/vi/vhnLdxH8eP0/hqdefault.jpg</td>\n",
       "      <td>480.0</td>\n",
       "      <td>360.0</td>\n",
       "      <td>A Review of machine learning on source code.</td>\n",
       "      <td>960.0</td>\n",
       "      <td>720.0</td>\n",
       "      <td>NaN</td>\n",
       "      <td>/channel/UCJesxoOgwZS5JpHrTDOS-8A</td>\n",
       "      <td>0.457</td>\n",
       "    </tr>\n",
       "  </tbody>\n",
       "</table>\n",
       "</div>"
      ],
      "text/plain": [
       "                                            watch-title   y  \\\n",
       "505                Platform Overview - Machine Learning NaN   \n",
       "507             Kaggle Meetup: Ship Detection Challenge NaN   \n",
       "535    Identifying art through machine learning at MoMA NaN   \n",
       "557                       Deep Learning - Computerphile NaN   \n",
       "705             Kaggle Meetup: CANSSI NCSC Ferry Delays NaN   \n",
       "718                  Kaggle Meetup: Human Protein Atlas NaN   \n",
       "744             Data Science Specialization at IFMR-GSB NaN   \n",
       "904           Kaggle Meetup: AdTracking Fraud Detection NaN   \n",
       "923   Shri Debasish Sen at 7th International Data Sc... NaN   \n",
       "1059        Kaggle Meetup: Freesound Audio Tagging 2019 NaN   \n",
       "1084       Kaggle Meetup: Visual Relationship Challenge NaN   \n",
       "1114  Artificial Intelligence & Machine Learning  - ... NaN   \n",
       "\n",
       "           watch-view-count                  watch-time-text  \\\n",
       "505     4.298 visualizações  Publicado em 21 de mai. de 2019   \n",
       "507       504 visualizações  Publicado em 30 de nov. de 2018   \n",
       "535     9.476 visualizações   Publicado em 7 de mar. de 2018   \n",
       "557   131.286 visualizações   Publicado em 6 de jun. de 2018   \n",
       "705       124 visualizações   Publicado em 3 de out. de 2019   \n",
       "718       226 visualizações   Publicado em 8 de fev. de 2019   \n",
       "744       207 visualizações  Publicado em 27 de dez. de 2018   \n",
       "904       372 visualizações   Publicado em 1 de jun. de 2018   \n",
       "923         5 visualizações  Publicado em 23 de nov. de 2019   \n",
       "1059      167 visualizações  Publicado em 10 de ago. de 2019   \n",
       "1084      104 visualizações   Publicado em 6 de dez. de 2018   \n",
       "1114       28 visualizações  Publicado em 25 de nov. de 2019   \n",
       "\n",
       "     content_watch-info-tag-list  \\\n",
       "505         Ciência e tecnologia   \n",
       "507         Ciência e tecnologia   \n",
       "535               Entretenimento   \n",
       "557                     Educação   \n",
       "705         Ciência e tecnologia   \n",
       "718         Ciência e tecnologia   \n",
       "744                     Educação   \n",
       "904         Ciência e tecnologia   \n",
       "923         Ciência e tecnologia   \n",
       "1059        Ciência e tecnologia   \n",
       "1084        Ciência e tecnologia   \n",
       "1114                    Educação   \n",
       "\n",
       "                                        watch7-headline  \\\n",
       "505                Platform Overview - Machine Learning   \n",
       "507             Kaggle Meetup: Ship Detection Challenge   \n",
       "535   #MachineLearning #Musuem #Art\\n\\n\\n\\n    Ident...   \n",
       "557                       Deep Learning - Computerphile   \n",
       "705             Kaggle Meetup: CANSSI NCSC Ferry Delays   \n",
       "718                  Kaggle Meetup: Human Protein Atlas   \n",
       "744             Data Science Specialization at IFMR-GSB   \n",
       "904           Kaggle Meetup: AdTracking Fraud Detection   \n",
       "923   Shri Debasish Sen at 7th International Data Sc...   \n",
       "1059  VentureLabs\\n\\n\\n\\n    Kaggle Meetup: Freesoun...   \n",
       "1084       Kaggle Meetup: Visual Relationship Challenge   \n",
       "1114  Artificial Intelligence & Machine Learning  - ...   \n",
       "\n",
       "                                     watch7-user-header  \\\n",
       "505   Google Cloud Platform\\n\\n\\n\\n\\n\\n\\n\\n\\n\\n\\n\\n\\...   \n",
       "507   Learn Data Science\\n\\n\\n\\n\\n\\n\\n\\n\\n\\n\\n\\n\\n\\n...   \n",
       "535   Google Arts & Culture\\n\\n\\n\\n\\n\\n\\n\\n\\n\\n\\n\\n\\...   \n",
       "557   Computerphile\\n\\n\\n\\n\\n\\n\\n\\n\\n\\n\\n\\n\\n\\n\\nCar...   \n",
       "705   Learn Data Science\\n\\n\\n\\n\\n\\n\\n\\n\\n\\n\\n\\n\\n\\n...   \n",
       "718   Learn Data Science\\n\\n\\n\\n\\n\\n\\n\\n\\n\\n\\n\\n\\n\\n...   \n",
       "744   IFMR GSB KREA University\\n\\n\\n\\n\\n\\n\\n\\n\\n\\n\\n...   \n",
       "904   Learn Data Science\\n\\n\\n\\n\\n\\n\\n\\n\\n\\n\\n\\n\\n\\n...   \n",
       "923   Data Science Foundation\\n\\n\\n\\n\\n\\n\\n\\n\\n\\n\\n\\...   \n",
       "1059  Learn Data Science\\n\\n\\n\\n\\n\\n\\n\\n\\n\\n\\n\\n\\n\\n...   \n",
       "1084  Learn Data Science\\n\\n\\n\\n\\n\\n\\n\\n\\n\\n\\n\\n\\n\\n...   \n",
       "1114  jayanti prasad\\n\\n\\n\\n\\n\\n\\n\\n\\n\\n\\n\\n\\n\\nCarr...   \n",
       "\n",
       "                               watch8-sentiment-actions  \\\n",
       "505   4.298 visualizações\\n\\n\\n\\n\\n\\n\\n\\n141\\n\\nGost...   \n",
       "507   504 visualizações\\n\\n\\n\\n\\n\\n\\n\\n9\\n\\nGostou d...   \n",
       "535   9.476 visualizações\\n\\n\\n\\n\\n\\n\\n\\n49\\n\\nGosto...   \n",
       "557   131.286 visualizações\\n\\n\\n\\n\\n\\n\\n\\n3.700\\n\\n...   \n",
       "705   124 visualizações\\n\\n\\n\\n\\n\\n\\n\\n2\\n\\nGostou d...   \n",
       "718   226 visualizações\\n\\n\\n\\n\\n\\n\\n\\n5\\n\\nGostou d...   \n",
       "744   207 visualizações\\n\\n\\n\\n\\n\\n\\n\\n3\\n\\nGostou d...   \n",
       "904   372 visualizações\\n\\n\\n\\n\\n\\n\\n\\n11\\n\\nGostou ...   \n",
       "923   5 visualizações\\n\\n\\n\\n\\nGostou deste vídeo?\\n...   \n",
       "1059  167 visualizações\\n\\n\\n\\n\\n\\n\\n\\n1\\n\\nGostou d...   \n",
       "1084  104 visualizações\\n\\n\\n\\n\\n\\n\\n\\n3\\n\\nGostou d...   \n",
       "1114  28 visualizações\\n\\n\\n\\n\\n\\n\\n\\n1\\n\\nGostou de...   \n",
       "\n",
       "                                               og:image  og:image:width  \\\n",
       "505   https://i.ytimg.com/vi/QR_LQQ-vvko/maxresdefau...          1280.0   \n",
       "507   https://i.ytimg.com/vi/QXEy4rdLsDw/maxresdefau...          1280.0   \n",
       "535   https://i.ytimg.com/vi/SLBqVOnn9Mo/maxresdefau...          1280.0   \n",
       "557   https://i.ytimg.com/vi/TJlAxW-2nmI/maxresdefau...          1280.0   \n",
       "705   https://i.ytimg.com/vi/aOGnEHywIBc/maxresdefau...          1280.0   \n",
       "718   https://i.ytimg.com/vi/bAgjqdQ0VE8/maxresdefau...          1280.0   \n",
       "744   https://i.ytimg.com/vi/crUfuo9GXIc/maxresdefau...          1280.0   \n",
       "904   https://i.ytimg.com/vi/kzkQTPeZPQ4/maxresdefau...          1280.0   \n",
       "923   https://i.ytimg.com/vi/m0NTnHGSfkA/maxresdefau...          1280.0   \n",
       "1059  https://i.ytimg.com/vi/tEe-w86R23E/maxresdefau...          1280.0   \n",
       "1084  https://i.ytimg.com/vi/uBVY-g3ZXUk/maxresdefau...          1280.0   \n",
       "1114   https://i.ytimg.com/vi/vhnLdxH8eP0/hqdefault.jpg           480.0   \n",
       "\n",
       "      og:image:height                                     og:description  \\\n",
       "505             720.0  In this short GCP Essentials video, see how GC...   \n",
       "507             720.0  Video from the 2018-11-29 meetup. Kaggle page:...   \n",
       "535             720.0  The Art Recognizer, built in collaboration wit...   \n",
       "557             720.0  Deep Learning with Convolutional Neural Networ...   \n",
       "705             720.0  Presenter: Matt Tourond Kaggle page: https://w...   \n",
       "718             720.0  Kaggle page: https://www.kaggle.com/c/human-pr...   \n",
       "744             720.0                                                      \n",
       "904             720.0  https://www.meetup.com/LearnDataScience/events...   \n",
       "923             720.0  Shri Debasish Sen at 7th International Data Sc...   \n",
       "1059            720.0  Presenter: Keagan O'Donohue Kaggle page: https...   \n",
       "1084            720.0  Kaggle page: https://www.kaggle.com/c/google-a...   \n",
       "1114            360.0       A Review of machine learning on source code.   \n",
       "\n",
       "      og:video:width  og:video:height               og:video:tag  \\\n",
       "505           1280.0            720.0  Alexis Moussine Pouchkine   \n",
       "507           1280.0            720.0         learn data science   \n",
       "535           1280.0            720.0       museum of modern art   \n",
       "557           1280.0            720.0             Neural Network   \n",
       "705           1280.0            720.0           machine learning   \n",
       "718           1280.0            720.0                     kaggle   \n",
       "744           1280.0            720.0                        NaN   \n",
       "904           1280.0            720.0                        NaN   \n",
       "923           1280.0            720.0       Data Science in Govt   \n",
       "1059          1280.0            720.0                     kaggle   \n",
       "1084          1280.0            720.0    artificial intelligence   \n",
       "1114           960.0            720.0                        NaN   \n",
       "\n",
       "                         channel_link_0      p  \n",
       "505   /channel/UCJS9pqu9BzkAMNTmzNMNhvg  0.502  \n",
       "507   /channel/UCJhW_16uxALr0X4olEW2p5A  0.455  \n",
       "535   /channel/UCGn7dlcAmH44GqycKa_3ssA  0.510  \n",
       "557   /channel/UC9-y-6csu5WGm29I7JiwpnA  0.453  \n",
       "705   /channel/UCJhW_16uxALr0X4olEW2p5A  0.464  \n",
       "718   /channel/UCJhW_16uxALr0X4olEW2p5A  0.487  \n",
       "744   /channel/UCAjwb2trX_m_6hobx02MV9g  0.469  \n",
       "904   /channel/UCJhW_16uxALr0X4olEW2p5A  0.521  \n",
       "923   /channel/UCgURMi5Be6B6AOrgXuOnctQ  0.468  \n",
       "1059  /channel/UCJhW_16uxALr0X4olEW2p5A  0.493  \n",
       "1084  /channel/UCJhW_16uxALr0X4olEW2p5A  0.456  \n",
       "1114  /channel/UCJesxoOgwZS5JpHrTDOS-8A  0.457  "
      ]
     },
     "execution_count": 44,
     "metadata": {},
     "output_type": "execute_result"
    }
   ],
   "source": [
    "df_unlabeled[mask_u]"
   ]
  },
  {
   "cell_type": "code",
   "execution_count": 48,
   "metadata": {},
   "outputs": [],
   "source": [
    "dificies = df_unlabeled[mask_u]"
   ]
  },
  {
   "cell_type": "markdown",
   "metadata": {},
   "source": [
    "Pegando 31 amostras que não são confusas.\n",
    "<br> ~mascara -> exemplos contrários"
   ]
  },
  {
   "cell_type": "code",
   "execution_count": 50,
   "metadata": {},
   "outputs": [],
   "source": [
    "aleatorios = df_limpo_u[~mask_u].sample(31)"
   ]
  },
  {
   "cell_type": "code",
   "execution_count": 54,
   "metadata": {},
   "outputs": [],
   "source": [
    "pd.concat([dificies, aleatorios]).to_csv(\"active_label1.csv\")"
   ]
  },
  {
   "cell_type": "code",
   "execution_count": 55,
   "metadata": {},
   "outputs": [
    {
     "data": {
      "text/html": [
       "<div>\n",
       "<style scoped>\n",
       "    .dataframe tbody tr th:only-of-type {\n",
       "        vertical-align: middle;\n",
       "    }\n",
       "\n",
       "    .dataframe tbody tr th {\n",
       "        vertical-align: top;\n",
       "    }\n",
       "\n",
       "    .dataframe thead th {\n",
       "        text-align: right;\n",
       "    }\n",
       "</style>\n",
       "<table border=\"1\" class=\"dataframe\">\n",
       "  <thead>\n",
       "    <tr style=\"text-align: right;\">\n",
       "      <th></th>\n",
       "      <th>watch-title</th>\n",
       "      <th>y</th>\n",
       "      <th>watch-view-count</th>\n",
       "      <th>watch-time-text</th>\n",
       "      <th>content_watch-info-tag-list</th>\n",
       "      <th>watch7-headline</th>\n",
       "      <th>watch7-user-header</th>\n",
       "      <th>watch8-sentiment-actions</th>\n",
       "      <th>og:image</th>\n",
       "      <th>og:image:width</th>\n",
       "      <th>og:image:height</th>\n",
       "      <th>og:description</th>\n",
       "      <th>og:video:width</th>\n",
       "      <th>og:video:height</th>\n",
       "      <th>og:video:tag</th>\n",
       "      <th>channel_link_0</th>\n",
       "      <th>p</th>\n",
       "    </tr>\n",
       "  </thead>\n",
       "  <tbody>\n",
       "    <tr>\n",
       "      <th>505</th>\n",
       "      <td>Platform Overview - Machine Learning</td>\n",
       "      <td>NaN</td>\n",
       "      <td>4.298 visualizações</td>\n",
       "      <td>Publicado em 21 de mai. de 2019</td>\n",
       "      <td>Ciência e tecnologia</td>\n",
       "      <td>Platform Overview - Machine Learning</td>\n",
       "      <td>Google Cloud Platform\\n\\n\\n\\n\\n\\n\\n\\n\\n\\n\\n\\n\\...</td>\n",
       "      <td>4.298 visualizações\\n\\n\\n\\n\\n\\n\\n\\n141\\n\\nGost...</td>\n",
       "      <td>https://i.ytimg.com/vi/QR_LQQ-vvko/maxresdefau...</td>\n",
       "      <td>1280.0</td>\n",
       "      <td>720.0</td>\n",
       "      <td>In this short GCP Essentials video, see how GC...</td>\n",
       "      <td>1280.0</td>\n",
       "      <td>720.0</td>\n",
       "      <td>Alexis Moussine Pouchkine</td>\n",
       "      <td>/channel/UCJS9pqu9BzkAMNTmzNMNhvg</td>\n",
       "      <td>0.502</td>\n",
       "    </tr>\n",
       "    <tr>\n",
       "      <th>507</th>\n",
       "      <td>Kaggle Meetup: Ship Detection Challenge</td>\n",
       "      <td>NaN</td>\n",
       "      <td>504 visualizações</td>\n",
       "      <td>Publicado em 30 de nov. de 2018</td>\n",
       "      <td>Ciência e tecnologia</td>\n",
       "      <td>Kaggle Meetup: Ship Detection Challenge</td>\n",
       "      <td>Learn Data Science\\n\\n\\n\\n\\n\\n\\n\\n\\n\\n\\n\\n\\n\\n...</td>\n",
       "      <td>504 visualizações\\n\\n\\n\\n\\n\\n\\n\\n9\\n\\nGostou d...</td>\n",
       "      <td>https://i.ytimg.com/vi/QXEy4rdLsDw/maxresdefau...</td>\n",
       "      <td>1280.0</td>\n",
       "      <td>720.0</td>\n",
       "      <td>Video from the 2018-11-29 meetup. Kaggle page:...</td>\n",
       "      <td>1280.0</td>\n",
       "      <td>720.0</td>\n",
       "      <td>learn data science</td>\n",
       "      <td>/channel/UCJhW_16uxALr0X4olEW2p5A</td>\n",
       "      <td>0.455</td>\n",
       "    </tr>\n",
       "    <tr>\n",
       "      <th>519</th>\n",
       "      <td>flowlightさん『TalkingData AdTracking Fraud Detec...</td>\n",
       "      <td>NaN</td>\n",
       "      <td>1.707 visualizações</td>\n",
       "      <td>Publicado em 12 de mai. de 2018</td>\n",
       "      <td>Pessoas e blogs</td>\n",
       "      <td>flowlightさん『TalkingData AdTracking Fraud Detec...</td>\n",
       "      <td>Takami Sato\\n\\n\\n\\n\\n\\n\\n\\n\\n\\n\\n\\n\\n\\nCarrega...</td>\n",
       "      <td>1.707 visualizações\\n\\n\\n\\n\\n\\n\\n\\n17\\n\\nGosto...</td>\n",
       "      <td>https://i.ytimg.com/vi/RKXUEJVJJ-o/maxresdefau...</td>\n",
       "      <td>1280.0</td>\n",
       "      <td>720.0</td>\n",
       "      <td>資料 https://www.slideshare.net/TakanoriHayashi3...</td>\n",
       "      <td>1280.0</td>\n",
       "      <td>720.0</td>\n",
       "      <td>kaggle</td>\n",
       "      <td>/channel/UCiECS_auJLNpFsvjTi1WuxQ</td>\n",
       "      <td>0.283</td>\n",
       "    </tr>\n",
       "    <tr>\n",
       "      <th>527</th>\n",
       "      <td>Reinforcement Learning with TensorFlow and Uni...</td>\n",
       "      <td>NaN</td>\n",
       "      <td>545 visualizações</td>\n",
       "      <td>Publicado em 22 de nov. de 2019</td>\n",
       "      <td>Ciência e tecnologia</td>\n",
       "      <td>Reinforcement Learning with TensorFlow and Uni...</td>\n",
       "      <td>Google Developers\\n\\n\\n\\n\\n\\n\\n\\n\\n\\n\\n\\n\\n\\n\\...</td>\n",
       "      <td>545 visualizações\\n\\n\\n\\n\\n\\n\\n\\n13\\n\\nGostou ...</td>\n",
       "      <td>https://i.ytimg.com/vi/S-MbpQiwfls/maxresdefau...</td>\n",
       "      <td>1280.0</td>\n",
       "      <td>720.0</td>\n",
       "      <td>Dan Goncharov, Head of 42 Robotics GDG Fremont...</td>\n",
       "      <td>1280.0</td>\n",
       "      <td>720.0</td>\n",
       "      <td>Dan Goncharov</td>\n",
       "      <td>/channel/UC_x5XG1OV2P6uZZ5FSM9Ttw</td>\n",
       "      <td>0.261</td>\n",
       "    </tr>\n",
       "    <tr>\n",
       "      <th>535</th>\n",
       "      <td>Identifying art through machine learning at MoMA</td>\n",
       "      <td>NaN</td>\n",
       "      <td>9.476 visualizações</td>\n",
       "      <td>Publicado em 7 de mar. de 2018</td>\n",
       "      <td>Entretenimento</td>\n",
       "      <td>#MachineLearning #Musuem #Art\\n\\n\\n\\n    Ident...</td>\n",
       "      <td>Google Arts &amp; Culture\\n\\n\\n\\n\\n\\n\\n\\n\\n\\n\\n\\n\\...</td>\n",
       "      <td>9.476 visualizações\\n\\n\\n\\n\\n\\n\\n\\n49\\n\\nGosto...</td>\n",
       "      <td>https://i.ytimg.com/vi/SLBqVOnn9Mo/maxresdefau...</td>\n",
       "      <td>1280.0</td>\n",
       "      <td>720.0</td>\n",
       "      <td>The Art Recognizer, built in collaboration wit...</td>\n",
       "      <td>1280.0</td>\n",
       "      <td>720.0</td>\n",
       "      <td>museum of modern art</td>\n",
       "      <td>/channel/UCGn7dlcAmH44GqycKa_3ssA</td>\n",
       "      <td>0.510</td>\n",
       "    </tr>\n",
       "  </tbody>\n",
       "</table>\n",
       "</div>"
      ],
      "text/plain": [
       "                                           watch-title   y  \\\n",
       "505               Platform Overview - Machine Learning NaN   \n",
       "507            Kaggle Meetup: Ship Detection Challenge NaN   \n",
       "519  flowlightさん『TalkingData AdTracking Fraud Detec... NaN   \n",
       "527  Reinforcement Learning with TensorFlow and Uni... NaN   \n",
       "535   Identifying art through machine learning at MoMA NaN   \n",
       "\n",
       "        watch-view-count                  watch-time-text  \\\n",
       "505  4.298 visualizações  Publicado em 21 de mai. de 2019   \n",
       "507    504 visualizações  Publicado em 30 de nov. de 2018   \n",
       "519  1.707 visualizações  Publicado em 12 de mai. de 2018   \n",
       "527    545 visualizações  Publicado em 22 de nov. de 2019   \n",
       "535  9.476 visualizações   Publicado em 7 de mar. de 2018   \n",
       "\n",
       "    content_watch-info-tag-list  \\\n",
       "505        Ciência e tecnologia   \n",
       "507        Ciência e tecnologia   \n",
       "519             Pessoas e blogs   \n",
       "527        Ciência e tecnologia   \n",
       "535              Entretenimento   \n",
       "\n",
       "                                       watch7-headline  \\\n",
       "505               Platform Overview - Machine Learning   \n",
       "507            Kaggle Meetup: Ship Detection Challenge   \n",
       "519  flowlightさん『TalkingData AdTracking Fraud Detec...   \n",
       "527  Reinforcement Learning with TensorFlow and Uni...   \n",
       "535  #MachineLearning #Musuem #Art\\n\\n\\n\\n    Ident...   \n",
       "\n",
       "                                    watch7-user-header  \\\n",
       "505  Google Cloud Platform\\n\\n\\n\\n\\n\\n\\n\\n\\n\\n\\n\\n\\...   \n",
       "507  Learn Data Science\\n\\n\\n\\n\\n\\n\\n\\n\\n\\n\\n\\n\\n\\n...   \n",
       "519  Takami Sato\\n\\n\\n\\n\\n\\n\\n\\n\\n\\n\\n\\n\\n\\nCarrega...   \n",
       "527  Google Developers\\n\\n\\n\\n\\n\\n\\n\\n\\n\\n\\n\\n\\n\\n\\...   \n",
       "535  Google Arts & Culture\\n\\n\\n\\n\\n\\n\\n\\n\\n\\n\\n\\n\\...   \n",
       "\n",
       "                              watch8-sentiment-actions  \\\n",
       "505  4.298 visualizações\\n\\n\\n\\n\\n\\n\\n\\n141\\n\\nGost...   \n",
       "507  504 visualizações\\n\\n\\n\\n\\n\\n\\n\\n9\\n\\nGostou d...   \n",
       "519  1.707 visualizações\\n\\n\\n\\n\\n\\n\\n\\n17\\n\\nGosto...   \n",
       "527  545 visualizações\\n\\n\\n\\n\\n\\n\\n\\n13\\n\\nGostou ...   \n",
       "535  9.476 visualizações\\n\\n\\n\\n\\n\\n\\n\\n49\\n\\nGosto...   \n",
       "\n",
       "                                              og:image  og:image:width  \\\n",
       "505  https://i.ytimg.com/vi/QR_LQQ-vvko/maxresdefau...          1280.0   \n",
       "507  https://i.ytimg.com/vi/QXEy4rdLsDw/maxresdefau...          1280.0   \n",
       "519  https://i.ytimg.com/vi/RKXUEJVJJ-o/maxresdefau...          1280.0   \n",
       "527  https://i.ytimg.com/vi/S-MbpQiwfls/maxresdefau...          1280.0   \n",
       "535  https://i.ytimg.com/vi/SLBqVOnn9Mo/maxresdefau...          1280.0   \n",
       "\n",
       "     og:image:height                                     og:description  \\\n",
       "505            720.0  In this short GCP Essentials video, see how GC...   \n",
       "507            720.0  Video from the 2018-11-29 meetup. Kaggle page:...   \n",
       "519            720.0  資料 https://www.slideshare.net/TakanoriHayashi3...   \n",
       "527            720.0  Dan Goncharov, Head of 42 Robotics GDG Fremont...   \n",
       "535            720.0  The Art Recognizer, built in collaboration wit...   \n",
       "\n",
       "     og:video:width  og:video:height               og:video:tag  \\\n",
       "505          1280.0            720.0  Alexis Moussine Pouchkine   \n",
       "507          1280.0            720.0         learn data science   \n",
       "519          1280.0            720.0                     kaggle   \n",
       "527          1280.0            720.0              Dan Goncharov   \n",
       "535          1280.0            720.0       museum of modern art   \n",
       "\n",
       "                        channel_link_0      p  \n",
       "505  /channel/UCJS9pqu9BzkAMNTmzNMNhvg  0.502  \n",
       "507  /channel/UCJhW_16uxALr0X4olEW2p5A  0.455  \n",
       "519  /channel/UCiECS_auJLNpFsvjTi1WuxQ  0.283  \n",
       "527  /channel/UC_x5XG1OV2P6uZZ5FSM9Ttw  0.261  \n",
       "535  /channel/UCGn7dlcAmH44GqycKa_3ssA  0.510  "
      ]
     },
     "execution_count": 55,
     "metadata": {},
     "output_type": "execute_result"
    }
   ],
   "source": [
    "dificies.head()"
   ]
  },
  {
   "cell_type": "code",
   "execution_count": 56,
   "metadata": {},
   "outputs": [
    {
     "data": {
      "text/html": [
       "<div>\n",
       "<style scoped>\n",
       "    .dataframe tbody tr th:only-of-type {\n",
       "        vertical-align: middle;\n",
       "    }\n",
       "\n",
       "    .dataframe tbody tr th {\n",
       "        vertical-align: top;\n",
       "    }\n",
       "\n",
       "    .dataframe thead th {\n",
       "        text-align: right;\n",
       "    }\n",
       "</style>\n",
       "<table border=\"1\" class=\"dataframe\">\n",
       "  <thead>\n",
       "    <tr style=\"text-align: right;\">\n",
       "      <th></th>\n",
       "      <th>title</th>\n",
       "      <th>date</th>\n",
       "      <th>views</th>\n",
       "    </tr>\n",
       "  </thead>\n",
       "  <tbody>\n",
       "    <tr>\n",
       "      <th>571</th>\n",
       "      <td>Kaggle Reading Group: Dissecting contextual wo...</td>\n",
       "      <td>2019-03-13</td>\n",
       "      <td>1016</td>\n",
       "    </tr>\n",
       "    <tr>\n",
       "      <th>1053</th>\n",
       "      <td>We talk about machine learning</td>\n",
       "      <td>2019-11-25</td>\n",
       "      <td>0</td>\n",
       "    </tr>\n",
       "    <tr>\n",
       "      <th>763</th>\n",
       "      <td>Time Series Analysis in Python | Time Series F...</td>\n",
       "      <td>2018-05-31</td>\n",
       "      <td>151104</td>\n",
       "    </tr>\n",
       "    <tr>\n",
       "      <th>964</th>\n",
       "      <td>Big Data y Data Science</td>\n",
       "      <td>2019-11-22</td>\n",
       "      <td>0</td>\n",
       "    </tr>\n",
       "    <tr>\n",
       "      <th>666</th>\n",
       "      <td>From Deep Learning of Disentangled Representat...</td>\n",
       "      <td>2018-02-08</td>\n",
       "      <td>37182</td>\n",
       "    </tr>\n",
       "  </tbody>\n",
       "</table>\n",
       "</div>"
      ],
      "text/plain": [
       "                                                  title       date   views\n",
       "571   Kaggle Reading Group: Dissecting contextual wo... 2019-03-13    1016\n",
       "1053                     We talk about machine learning 2019-11-25       0\n",
       "763   Time Series Analysis in Python | Time Series F... 2018-05-31  151104\n",
       "964                             Big Data y Data Science 2019-11-22       0\n",
       "666   From Deep Learning of Disentangled Representat... 2018-02-08   37182"
      ]
     },
     "execution_count": 56,
     "metadata": {},
     "output_type": "execute_result"
    }
   ],
   "source": [
    "aleatorios.head()"
   ]
  },
  {
   "cell_type": "code",
   "execution_count": null,
   "metadata": {},
   "outputs": [],
   "source": []
  }
 ],
 "metadata": {
  "kernelspec": {
   "display_name": "Python 3",
   "language": "python",
   "name": "python3"
  },
  "language_info": {
   "codemirror_mode": {
    "name": "ipython",
    "version": 3
   },
   "file_extension": ".py",
   "mimetype": "text/x-python",
   "name": "python",
   "nbconvert_exporter": "python",
   "pygments_lexer": "ipython3",
   "version": "3.7.6"
  }
 },
 "nbformat": 4,
 "nbformat_minor": 4
}
